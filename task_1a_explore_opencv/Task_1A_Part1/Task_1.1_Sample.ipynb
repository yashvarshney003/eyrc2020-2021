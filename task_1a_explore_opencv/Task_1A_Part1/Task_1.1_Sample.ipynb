{
 "cells": [
  {
   "cell_type": "code",
   "execution_count": 1,
   "metadata": {},
   "outputs": [
    {
     "name": "stdout",
     "output_type": "stream",
     "text": [
      "true\n"
     ]
    }
   ],
   "source": [
    "import cv2\n",
    "from matplotlib import pyplot as plt\n",
    "#import osp\n",
    "#import imutils\n",
    "import numpy as np\n",
    "\n",
    "name='rho'\n",
    "print('true')"
   ]
  },
  {
   "cell_type": "code",
   "execution_count": 2,
   "metadata": {},
   "outputs": [],
   "source": [
    "def rect(c):\n",
    "    area = cv2.contourArea(c)\n",
    "    print('contour area=', area)\n",
    "    app  = cv2.approxPolyDP(c, 0.0009 * cv2.arcLength(c, True), True)\n",
    "    (p,q,r,s)= cv2.boundingRect(app)\n",
    "    \n",
    "    # compute the aspect ratio of the contour, which is simply the width\n",
    "    # divided by the height of the bounding box\n",
    "#     aspectRatio = w / float(h)\n",
    "#     print('aspect ratio of'+ name,'=',aspectRatio)\n",
    "#     # use the area of the contour and the bounding box area to compute\n",
    "#     # the extent\n",
    "#     extent = area / float(w * h)\n",
    "#  \n",
    "    # compute the convex hull of the contour, then use the area of the\n",
    "    # original contour and the area of the convex hull to compute the\n",
    "    # solidity\n",
    "    hull = cv2.convexHull(app)\n",
    "    (x, y, w, h) = cv2.boundingRect(hull)\n",
    "    roi = resized[x:x+w,y:y+h]\n",
    "    cv2.imshow('roi', roi)\n",
    "    hullArea = cv2.contourArea(hull)\n",
    "    print('hull area of',name, hullArea)\n",
    "    solidity = area / float(hullArea)\n",
    "    print('solidity of'+ name,'=',solidity)\n",
    " \n",
    "    # visualize the original contours and the convex hull and initialize\n",
    "    # the name of the shape\n",
    "#    x,y,w,h=p,q,r,s\n",
    "    print('p=',p)\n",
    "    print('q=',q)\n",
    "    print('r=',r)\n",
    "    print('s=',s)\n",
    "    cv2.putText(resized, 'p', (p, p), cv2.FONT_HERSHEY_SIMPLEX,0.5, (0, 0, 0), 2)\n",
    "    cv2.putText(resized, 'q', (q, q), cv2.FONT_HERSHEY_SIMPLEX,0.5, (0, 0, 0), 2)\n",
    "    cv2.putText(resized, 'r', (r, p), cv2.FONT_HERSHEY_SIMPLEX,0.5, (0, 0, 0), 2)\n",
    "    cv2.putText(resized, 's', (q, s), cv2.FONT_HERSHEY_SIMPLEX,0.5, (0, 0, 0), 2)\n",
    "    \n",
    "    cv2.line(resized,(p,p),(q+r,q+s),(0,0,0),4)\n",
    "    cv2.line(resized,(p+s,p+s),(p+r,p+s),(180,0,0),4)\n",
    "    \n",
    "    #cv2.drawContours(hullImage, [hull], -1, 255, -1)\n",
    "    cv2.line(hullImage,(x,w-y),(x+w,w-x),(255,255,255),3)\n",
    "    cv2.line(hullImage,(x,w),(y,w),(255,255,255),5)\n",
    "    #line_x = cv2.line(resized,(s-p,s-q),(2*s+p,s-q),(0,0,255),5)\n",
    "    #line_y=cv2.line(resized,(s-q,s-q),(s-q+p,s-p+r),(189,40,150),3)\n",
    "#     line_x=cv2.line(resized,(q,r-p),(p,s),(255,0,150),3)\n",
    "    #print('angle=',np.mean(np.array(np.arctan(np.divide(line_y,line_x))[0])))\n",
    "    #cv2.drawContours(resized, [app], -1, (255, 255, 0), 3)\n",
    "    #cv2.imshow(\"Convex Hull\", hullImage)\n",
    "    "
   ]
  },
  {
   "cell_type": "code",
   "execution_count": 3,
   "metadata": {},
   "outputs": [],
   "source": [
    "def detect(c):\n",
    "        # initialize the shape name and approximate the contour\n",
    "        shape = \"unidentified\"\n",
    "        peri = cv2.arcLength(c, True)\n",
    "        approx = cv2.approxPolyDP(c, 0.009 * peri, True)\n",
    "#         view(approx)\n",
    "        if len(approx) == 3:\n",
    "            shape = \"triangle\"\n",
    "        # if the shape has 4 vertices, it is either a square or\n",
    "        # a rectangle\n",
    "        elif len(approx) == 4:\n",
    "            rect(c)\n",
    "            # compute the bounding box of the contour and use the\n",
    "#             # bounding box to compute the aspect ratio\n",
    "#             (x, y, w, h) = cv2.boundingRect(approx)\n",
    "#             ar = w / float(h)\n",
    "#             print('ar of',name,'=',ar)\n",
    "#             # a square will have an aspect ratio that is approximately\n",
    "#             # equal to one, otherwise, the shape is a rectangle\n",
    "#             shape = \"square\" if ar >= 0.95 and ar <= 1.05 else \"rectangle\"\n",
    "#         # if the shape is a pentagon, it will have 5 vertices\n",
    "        elif len(approx) == 5:\n",
    "            shape = \"pentagon\"\n",
    "        elif len(approx) == 6:\n",
    "            shape = \"hexagon\"\n",
    "        # otherwise, we assume the shape is a circle\n",
    "        else:\n",
    "            shape = \"circle\"\n",
    "        # return the name of the shape\n",
    "        return shape\n"
   ]
  },
  {
   "cell_type": "code",
   "execution_count": 4,
   "metadata": {},
   "outputs": [],
   "source": [
    "def show(img):\n",
    "    cv2.imshow(str(img), img)\n",
    "    cv2.waitKey(0)\n",
    "    if cv2.waitKey(0) & 0xFF == ord('q'):\n",
    "        cv2.destroyAllWindows()\n"
   ]
  },
  {
   "cell_type": "code",
   "execution_count": 5,
   "metadata": {},
   "outputs": [
    {
     "ename": "AttributeError",
     "evalue": "'NoneType' object has no attribute 'shape'",
     "output_type": "error",
     "traceback": [
      "\u001b[1;31m---------------------------------------------------------------------------\u001b[0m",
      "\u001b[1;31mAttributeError\u001b[0m                            Traceback (most recent call last)",
      "\u001b[1;32m<ipython-input-5-b15ef3229f3c>\u001b[0m in \u001b[0;36m<module>\u001b[1;34m\u001b[0m\n\u001b[0;32m      1\u001b[0m \u001b[0mimage\u001b[0m \u001b[1;33m=\u001b[0m \u001b[0mcv2\u001b[0m\u001b[1;33m.\u001b[0m\u001b[0mimread\u001b[0m\u001b[1;33m(\u001b[0m\u001b[1;34m\"Samples/\"\u001b[0m\u001b[1;33m+\u001b[0m\u001b[0mname\u001b[0m\u001b[1;33m+\u001b[0m\u001b[1;34m\".png\"\u001b[0m\u001b[1;33m)\u001b[0m\u001b[1;33m\u001b[0m\u001b[1;33m\u001b[0m\u001b[0m\n\u001b[0;32m      2\u001b[0m \u001b[0mscale_percent\u001b[0m \u001b[1;33m=\u001b[0m \u001b[1;36m100\u001b[0m \u001b[1;31m# percent of original size\u001b[0m\u001b[1;33m\u001b[0m\u001b[1;33m\u001b[0m\u001b[0m\n\u001b[1;32m----> 3\u001b[1;33m \u001b[0mwidth\u001b[0m \u001b[1;33m=\u001b[0m \u001b[0mint\u001b[0m\u001b[1;33m(\u001b[0m\u001b[0mimage\u001b[0m\u001b[1;33m.\u001b[0m\u001b[0mshape\u001b[0m\u001b[1;33m[\u001b[0m\u001b[1;36m1\u001b[0m\u001b[1;33m]\u001b[0m \u001b[1;33m*\u001b[0m \u001b[0mscale_percent\u001b[0m \u001b[1;33m/\u001b[0m \u001b[1;36m100\u001b[0m\u001b[1;33m)\u001b[0m\u001b[1;33m\u001b[0m\u001b[1;33m\u001b[0m\u001b[0m\n\u001b[0m\u001b[0;32m      4\u001b[0m \u001b[0mheight\u001b[0m \u001b[1;33m=\u001b[0m \u001b[0mint\u001b[0m\u001b[1;33m(\u001b[0m\u001b[0mimage\u001b[0m\u001b[1;33m.\u001b[0m\u001b[0mshape\u001b[0m\u001b[1;33m[\u001b[0m\u001b[1;36m0\u001b[0m\u001b[1;33m]\u001b[0m \u001b[1;33m*\u001b[0m \u001b[0mscale_percent\u001b[0m \u001b[1;33m/\u001b[0m \u001b[1;36m100\u001b[0m\u001b[1;33m)\u001b[0m\u001b[1;33m\u001b[0m\u001b[1;33m\u001b[0m\u001b[0m\n\u001b[0;32m      5\u001b[0m \u001b[0mdim\u001b[0m \u001b[1;33m=\u001b[0m \u001b[1;33m(\u001b[0m\u001b[0mwidth\u001b[0m\u001b[1;33m,\u001b[0m \u001b[0mheight\u001b[0m\u001b[1;33m)\u001b[0m\u001b[1;33m\u001b[0m\u001b[1;33m\u001b[0m\u001b[0m\n",
      "\u001b[1;31mAttributeError\u001b[0m: 'NoneType' object has no attribute 'shape'"
     ]
    }
   ],
   "source": [
    "image = cv2.imread(\"Samples/\"+name+\".png\")\n",
    "scale_percent = 100 # percent of original size\n",
    "width = int(image.shape[1] * scale_percent / 100)\n",
    "height = int(image.shape[0] * scale_percent / 100)\n",
    "dim = (width, height)\n",
    "resized = cv2.resize(image, dim)\n",
    "ratio = image.shape[0] / float(resized.shape[0])\n",
    "#show(resized)"
   ]
  },
  {
   "cell_type": "code",
   "execution_count": 6,
   "metadata": {},
   "outputs": [
    {
     "ename": "NameError",
     "evalue": "name 'resized' is not defined",
     "output_type": "error",
     "traceback": [
      "\u001b[1;31m---------------------------------------------------------------------------\u001b[0m",
      "\u001b[1;31mNameError\u001b[0m                                 Traceback (most recent call last)",
      "\u001b[1;32m<ipython-input-6-65c4a8b19390>\u001b[0m in \u001b[0;36m<module>\u001b[1;34m\u001b[0m\n\u001b[1;32m----> 1\u001b[1;33m \u001b[0mgray\u001b[0m \u001b[1;33m=\u001b[0m \u001b[0mcv2\u001b[0m\u001b[1;33m.\u001b[0m\u001b[0mcvtColor\u001b[0m\u001b[1;33m(\u001b[0m\u001b[0mresized\u001b[0m\u001b[1;33m,\u001b[0m \u001b[0mcv2\u001b[0m\u001b[1;33m.\u001b[0m\u001b[0mCOLOR_BGR2GRAY\u001b[0m\u001b[1;33m)\u001b[0m\u001b[1;33m\u001b[0m\u001b[1;33m\u001b[0m\u001b[0m\n\u001b[0m\u001b[0;32m      2\u001b[0m \u001b[0mhullImage\u001b[0m \u001b[1;33m=\u001b[0m \u001b[0mnp\u001b[0m\u001b[1;33m.\u001b[0m\u001b[0mzeros\u001b[0m\u001b[1;33m(\u001b[0m\u001b[0mresized\u001b[0m\u001b[1;33m.\u001b[0m\u001b[0mshape\u001b[0m\u001b[1;33m[\u001b[0m\u001b[1;33m:\u001b[0m\u001b[1;36m2\u001b[0m\u001b[1;33m]\u001b[0m\u001b[1;33m,\u001b[0m \u001b[0mdtype\u001b[0m\u001b[1;33m=\u001b[0m\u001b[1;34m\"uint8\"\u001b[0m\u001b[1;33m)\u001b[0m\u001b[1;33m\u001b[0m\u001b[1;33m\u001b[0m\u001b[0m\n\u001b[0;32m      3\u001b[0m \u001b[0mblurred\u001b[0m \u001b[1;33m=\u001b[0m \u001b[0mcv2\u001b[0m\u001b[1;33m.\u001b[0m\u001b[0mGaussianBlur\u001b[0m\u001b[1;33m(\u001b[0m\u001b[0mgray\u001b[0m\u001b[1;33m,\u001b[0m \u001b[1;33m(\u001b[0m\u001b[1;36m5\u001b[0m\u001b[1;33m,\u001b[0m \u001b[1;36m5\u001b[0m\u001b[1;33m)\u001b[0m\u001b[1;33m,\u001b[0m \u001b[1;36m0\u001b[0m\u001b[1;33m)\u001b[0m\u001b[1;33m\u001b[0m\u001b[1;33m\u001b[0m\u001b[0m\n\u001b[0;32m      4\u001b[0m \u001b[0mthresh\u001b[0m \u001b[1;33m=\u001b[0m \u001b[0mcv2\u001b[0m\u001b[1;33m.\u001b[0m\u001b[0mthreshold\u001b[0m\u001b[1;33m(\u001b[0m\u001b[0mblurred\u001b[0m\u001b[1;33m,\u001b[0m \u001b[1;36m140\u001b[0m\u001b[1;33m,\u001b[0m \u001b[1;36m255\u001b[0m\u001b[1;33m,\u001b[0m \u001b[0mcv2\u001b[0m\u001b[1;33m.\u001b[0m\u001b[0mTHRESH_BINARY_INV\u001b[0m\u001b[1;33m)\u001b[0m\u001b[1;33m[\u001b[0m\u001b[1;36m1\u001b[0m\u001b[1;33m]\u001b[0m\u001b[1;33m\u001b[0m\u001b[1;33m\u001b[0m\u001b[0m\n\u001b[0;32m      5\u001b[0m \u001b[1;31m#cv2.imshow('thresh',thresh)\u001b[0m\u001b[1;33m\u001b[0m\u001b[1;33m\u001b[0m\u001b[1;33m\u001b[0m\u001b[0m\n",
      "\u001b[1;31mNameError\u001b[0m: name 'resized' is not defined"
     ]
    }
   ],
   "source": [
    "gray = cv2.cvtColor(resized, cv2.COLOR_BGR2GRAY)\n",
    "hullImage = np.zeros(resized.shape[:2], dtype=\"uint8\")\n",
    "blurred = cv2.GaussianBlur(gray, (5, 5), 0)\n",
    "thresh = cv2.threshold(blurred, 140, 255, cv2.THRESH_BINARY_INV)[1]\n",
    "#cv2.imshow('thresh',thresh)\n",
    "# find contours in the thresholded image and initialize the\n",
    "# shape detector\n",
    "cnts = cv2.findContours(thresh.copy(), cv2.RETR_EXTERNAL,cv2.CHAIN_APPROX_SIMPLE)\n",
    "if len(cnts) == 2:\n",
    "        cnts = cnts[0]\n",
    "\n",
    "    # if the length of the contours tuple is '3' then we are using\n",
    "    # either OpenCV v3, v4-pre, or v4-alpha\n",
    "elif len(cnts) == 3:\n",
    "        cnts = cnts[1]\n",
    "#show(thresh)"
   ]
  },
  {
   "cell_type": "code",
   "execution_count": 7,
   "metadata": {},
   "outputs": [
    {
     "ename": "NameError",
     "evalue": "name 'cnts' is not defined",
     "output_type": "error",
     "traceback": [
      "\u001b[1;31m---------------------------------------------------------------------------\u001b[0m",
      "\u001b[1;31mNameError\u001b[0m                                 Traceback (most recent call last)",
      "\u001b[1;32m<ipython-input-7-beb2efb93e26>\u001b[0m in \u001b[0;36m<module>\u001b[1;34m\u001b[0m\n\u001b[1;32m----> 1\u001b[1;33m \u001b[1;32mfor\u001b[0m \u001b[0mc\u001b[0m \u001b[1;32min\u001b[0m \u001b[0mcnts\u001b[0m \u001b[1;33m:\u001b[0m\u001b[1;33m\u001b[0m\u001b[1;33m\u001b[0m\u001b[0m\n\u001b[0m\u001b[0;32m      2\u001b[0m     \u001b[0mM\u001b[0m \u001b[1;33m=\u001b[0m \u001b[0mcv2\u001b[0m\u001b[1;33m.\u001b[0m\u001b[0mmoments\u001b[0m\u001b[1;33m(\u001b[0m\u001b[0mc\u001b[0m\u001b[1;33m)\u001b[0m\u001b[1;33m\u001b[0m\u001b[1;33m\u001b[0m\u001b[0m\n\u001b[0;32m      3\u001b[0m     \u001b[0mcX\u001b[0m \u001b[1;33m=\u001b[0m \u001b[0mint\u001b[0m\u001b[1;33m(\u001b[0m\u001b[1;33m(\u001b[0m\u001b[0mM\u001b[0m\u001b[1;33m[\u001b[0m\u001b[1;34m\"m10\"\u001b[0m\u001b[1;33m]\u001b[0m \u001b[1;33m/\u001b[0m \u001b[0mM\u001b[0m\u001b[1;33m[\u001b[0m\u001b[1;34m\"m00\"\u001b[0m\u001b[1;33m]\u001b[0m\u001b[1;33m)\u001b[0m \u001b[1;33m*\u001b[0m \u001b[0mratio\u001b[0m\u001b[1;33m)\u001b[0m\u001b[1;33m\u001b[0m\u001b[1;33m\u001b[0m\u001b[0m\n\u001b[0;32m      4\u001b[0m     \u001b[0mcY\u001b[0m \u001b[1;33m=\u001b[0m \u001b[0mint\u001b[0m\u001b[1;33m(\u001b[0m\u001b[1;33m(\u001b[0m\u001b[0mM\u001b[0m\u001b[1;33m[\u001b[0m\u001b[1;34m\"m01\"\u001b[0m\u001b[1;33m]\u001b[0m \u001b[1;33m/\u001b[0m \u001b[0mM\u001b[0m\u001b[1;33m[\u001b[0m\u001b[1;34m\"m00\"\u001b[0m\u001b[1;33m]\u001b[0m\u001b[1;33m)\u001b[0m \u001b[1;33m*\u001b[0m \u001b[0mratio\u001b[0m\u001b[1;33m)\u001b[0m\u001b[1;33m\u001b[0m\u001b[1;33m\u001b[0m\u001b[0m\n\u001b[0;32m      5\u001b[0m     \u001b[0mshape\u001b[0m \u001b[1;33m=\u001b[0m \u001b[0mdetect\u001b[0m\u001b[1;33m(\u001b[0m\u001b[0mc\u001b[0m\u001b[1;33m)\u001b[0m\u001b[1;33m\u001b[0m\u001b[1;33m\u001b[0m\u001b[0m\n",
      "\u001b[1;31mNameError\u001b[0m: name 'cnts' is not defined"
     ]
    }
   ],
   "source": [
    "for c in cnts :\n",
    "    M = cv2.moments(c)\n",
    "    cX = int((M[\"m10\"] / M[\"m00\"]) * ratio)\n",
    "    cY = int((M[\"m01\"] / M[\"m00\"]) * ratio)\n",
    "    shape = detect(c)\n",
    "    \n",
    "    # multiply the contour (x, y)-coordinates by the resize ratio,\n",
    "    # then draw the contours and the name of the shape on the image\n",
    "    c = c.astype(\"float\")\n",
    "    c *= ratio\n",
    "    c = c.astype(\"int\")\n",
    "    print(shape, cv2.arcLength(c, True),cX, cY)\n",
    "    #cv2.drawContours(resized, [c], -1, (0, 255, 0), 5)\n",
    "    cv2.putText(resized, shape, (cX, cY), cv2.FONT_HERSHEY_SIMPLEX,\n",
    "        0.5, (0, 0, 0), 2)\n",
    "show(resized)"
   ]
  },
  {
   "cell_type": "code",
   "execution_count": null,
   "metadata": {},
   "outputs": [],
   "source": []
  }
 ],
 "metadata": {
  "kernelspec": {
   "display_name": "Python 3",
   "language": "python",
   "name": "python3"
  },
  "language_info": {
   "codemirror_mode": {
    "name": "ipython",
    "version": 3
   },
   "file_extension": ".py",
   "mimetype": "text/x-python",
   "name": "python",
   "nbconvert_exporter": "python",
   "pygments_lexer": "ipython3",
   "version": "3.8.6"
  }
 },
 "nbformat": 4,
 "nbformat_minor": 4
}
