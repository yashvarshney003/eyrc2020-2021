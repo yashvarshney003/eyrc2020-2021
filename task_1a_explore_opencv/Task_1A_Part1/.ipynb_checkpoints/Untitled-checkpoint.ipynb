{
 "cells": [
  {
   "cell_type": "code",
   "execution_count": 1,
   "metadata": {},
   "outputs": [],
   "source": [
    "import cv2\n",
    "import numpy as np \n",
    "from matplotlib import pyplot as plt\n",
    "import imutils\n",
    "import math"
   ]
  },
  {
   "cell_type": "code",
   "execution_count": 2,
   "metadata": {},
   "outputs": [],
   "source": [
    "image = cv2.imread(\"Samples/Sample1.png\")\n",
    "image =  cv2.GaussianBlur(image,(1,1), cv2.BORDER_TRANSPARENT)\n",
    "image = cv2.cvtColor(image,cv2.COLOR_BGR2HSV)"
   ]
  },
  {
   "cell_type": "code",
   "execution_count": 3,
   "metadata": {},
   "outputs": [],
   "source": [
    "shapes = {}"
   ]
  },
  {
   "cell_type": "code",
   "execution_count": 4,
   "metadata": {
    "scrolled": true
   },
   "outputs": [
    {
     "data": {
      "image/png": "[encoded data removed]",
      "text/plain": [
       "<Figure size 432x288 with 1 Axes>"
      ]
     },
     "metadata": {
      "needs_background": "light"
     },
     "output_type": "display_data"
    }
   ],
   "source": [
    "plt.imshow(image,cmap=\"gray\")\n",
    "plt.show()"
   ]
  },
  {
   "cell_type": "code",
   "execution_count": 5,
   "metadata": {},
   "outputs": [
    {
     "data": {
      "image/png": "[encoded data removed]",
      "text/plain": [
       "<Figure size 432x288 with 1 Axes>"
      ]
     },
     "metadata": {
      "needs_background": "light"
     },
     "output_type": "display_data"
    },
    {
     "data": {
      "image/png": "[encoded data removed]",
      "text/plain": [
       "<Figure size 432x288 with 1 Axes>"
      ]
     },
     "metadata": {
      "needs_background": "light"
     },
     "output_type": "display_data"
    }
   ],
   "source": [
    "blue_lower = np.array([0, 50, 50], np.uint8) \n",
    "blue_upper = np.array([10, 255, 255], np.uint8) \n",
    "blue_mask = cv2.inRange(image, blue_lower, blue_upper) \n",
    "#blue_mask =  cv2.cvtColor(blue_mask,cv2.COLOR_HSV2RGB)\n",
    "plt.imshow(blue_mask,cmap=\"gray\")\n",
    "plt.show()\n",
    "\n",
    "#blue_gray=cv2.threshold(blue_mask, 120,225, cv2.THRESH_BINARY_INV)[1]\n",
    "#plt.imshow(blue_gray,cmap=\"gray\")\n",
    "#plt.show()\n",
    "edges = cv2.Canny(blue_mask,90,200,True)\n",
    "plt.imshow(edges,cmap=\"gray\")\n",
    "plt.show()\n",
    "\n"
   ]
  },
  {
   "cell_type": "code",
   "execution_count": null,
   "metadata": {},
   "outputs": [],
   "source": []
  },
  {
   "cell_type": "code",
   "execution_count": null,
   "metadata": {},
   "outputs": [],
   "source": []
  },
  {
   "cell_type": "code",
   "execution_count": null,
   "metadata": {},
   "outputs": [],
   "source": []
  },
  {
   "cell_type": "code",
   "execution_count": null,
   "metadata": {},
   "outputs": [],
   "source": []
  },
  {
   "cell_type": "code",
   "execution_count": 6,
   "metadata": {},
   "outputs": [],
   "source": [
    "def detect(c):\n",
    "        \n",
    "        # initialize the shape name and approximate the contour\n",
    "        peri = cv2.arcLength(c, True)\n",
    "        approx = cv2.approxPolyDP(c, 0.001* peri, True)\n",
    "        M = cv2.moments(c)\n",
    "        cX = int((M[\"m10\"] / M[\"m00\"])) #X co-ordinate of the centroid of the shape\n",
    "        cY = int((M[\"m01\"] / M[\"m00\"])) #Y co-ordinate of the centroid of the shape\n",
    "        shape = \"unidentified\" #Initialize a variable of string type\n",
    "    \n",
    "        area = cv2.contourArea(approx)\n",
    "        \n",
    "        \n",
    "        #Triangle if it shape has three sides\n",
    "        if len(approx) == 3:\n",
    "            shape = \"Triangle\"\n",
    "        \n",
    "        elif len(approx) == 4:\n",
    "            #Call rect() to detect the shape\n",
    "            angle,op_angle,cong_diag,op_side_eq,all_sides_cong = rect(c)\n",
    "\n",
    "            #If opposite angles and sides are equal and diagonals are congruent, it must be a parallelogram\n",
    "            if op_angle and op_side_eq and cong_diag:\n",
    "                #If all angles and sides are equal, aspect ratio is 1 and diagonals are congruent, it must be a square\n",
    "                if angle and cong_diag and all_sides_cong:\n",
    "                    shape='Square'\n",
    "                elif not(angle) or not(cong_diag) and all_sides_cong:\n",
    "                    #If aspect ratio is not 1 and angles are not 90, it must be a rhombus\n",
    "                    shape = 'Rhombus'\n",
    "                #Otherwise, its a parallelogram\n",
    "                else:\n",
    "                    shape = 'Parallelogram'\n",
    "            #If diagonals are not congruent, aspect ratio is not 1, opposite angles are not equal and\n",
    "            #all angles are not 90 degrees, it is a trapezium\n",
    "            elif not(cong_diag) and not(angle) or not(op_angle):\n",
    "                shape='Trapezium'\n",
    "            #Otherwise, it is a quadrilateral\n",
    "            else: shape='Quadrilateral'\n",
    "        #Pentagon if shape has 5 sides\n",
    "        elif len(approx) == 5:\n",
    "            shape = \"Pentagon\"\n",
    "        #Hexagon if shape has 6 sides\n",
    "        elif len(approx) == 6:\n",
    "            shape = \"Hexagon\"\n",
    "        # otherwise, we assume the shape is a circle\n",
    "        else:\n",
    "            shape = \"Circle\"\n",
    "        #return area rounded off to 1 decimal place\n",
    "        return shape, float(round(int(area),1)), cX, cY"
   ]
  },
  {
   "cell_type": "code",
   "execution_count": 7,
   "metadata": {},
   "outputs": [],
   "source": [
    "def rect(c):\n",
    "    perimeter = cv2.arcLength(c,True)\n",
    "    approx = cv2.approxPolyDP(c,0.01*perimeter,True)\n",
    "    if(len(approx)== 4):\n",
    "        pts = approx.reshape(4, 2)\n",
    "\n",
    "        #Vertex co-ordinates\n",
    "        x1= int(pts[0][0])\n",
    "        y1= int(pts[0][1])\n",
    "        x2= int(pts[1][0])\n",
    "        y2= int(pts[1][1])\n",
    "        x3= int(pts[2][0])\n",
    "        y3= int(pts[2][1])\n",
    "        x4= int(pts[3][0])\n",
    "        y4= int(pts[3][1])\n",
    "\n",
    "        #length of each side\n",
    "        first_side = round(np.sqrt((x1 - x2)**2 + (y1 - y2)**2))\n",
    "        second_side = round(np.sqrt((x2 - x3)**2 + (y2 - y3)**2))\n",
    "        third_side = round(np.sqrt((x3 - x4)**2 + (y3 - y4)**2))\n",
    "        fourth_side = round(np.sqrt((x4 - x1)**2 + (y4 - y1)**2))\n",
    "        op_side_eq= (-2.0<=round(abs(first_side-third_side),1)<=2.0 and -2.0<=round(abs(second_side-fourth_side),1)<=2.0)\n",
    "        all_sides_cong=((abs(first_side+third_side)-abs(second_side+fourth_side)) in np.arange(-5,5))\n",
    "\n",
    "        #If aspect ratio is 1 or not. Useful to distinguish between Square and Rhombus\n",
    "#         ar= op_side_eq and all_sides_cong\n",
    "        #To check if diagonals are congruent by checking distance of four vertices from the intersection point\n",
    "        int_point=line_intersect(x1,y1,x3,y3,x2,y2,x4,y4)\n",
    "        first_diag_1 = round(np.sqrt((int_point[0] - x1)**2 + (int_point[1] - y1)**2))\n",
    "        first_diag_2 = round(np.sqrt((int_point[0] - x3)**2 + (int_point[1] - y3)**2))\n",
    "        second_diag_1 = round(np.sqrt((int_point[0] - x2)**2 + (int_point[1] - y2)**2))\n",
    "        second_diag_2 = round(np.sqrt((int_point[0] - x4)**2 + (int_point[1] - y4)**2))\n",
    "#       Keeping an error of +-5 pixels in calculation and detection\n",
    "        cong_diag=(-5<=abs(first_diag_1-first_diag_2)<=5  and -5<=abs(second_diag_1-second_diag_2)<=5)\n",
    "        \n",
    "        #To find if opposite angles are equal\n",
    "        line_1 = (abs(x2-x1), abs(y2-y1))\n",
    "        line_2 = (abs(x3-x2), abs(y3-y2))\n",
    "        line_3 = (abs(x4-x3), abs(y4-y3))\n",
    "        line_4 = (abs(x4-x1), abs(y4-y1))\n",
    "        dot_product_1 = np.dot(line_1, line_2) / (np.linalg.norm(line_1) * np.linalg.norm(line_2))\n",
    "        dot_product_2 = np.dot(line_3, line_2) / (np.linalg.norm(line_2) * np.linalg.norm(line_3))\n",
    "        dot_product_3 = np.dot(line_4, line_3) / (np.linalg.norm(line_3) * np.linalg.norm(line_4))\n",
    "        dot_product_4 = np.dot(line_1, line_4) / (np.linalg.norm(line_4) * np.linalg.norm(line_1))\n",
    "        angle1 = round(180-np.degrees(np.arccos(dot_product_1)))\n",
    "        angle2 = round(np.degrees(np.arccos(dot_product_2)))\n",
    "        angle3 = round(180-np.degrees(np.arccos(dot_product_3)))\n",
    "        angle4 = round(np.degrees(np.arccos(dot_product_4)))\n",
    "        \n",
    "        op_angle = -1.0<=(abs(angle3-angle1)-abs(angle4-angle2))<=1.0\n",
    "        \n",
    "        #To find if all angles are 90 degree\n",
    "        angle=(abs(angle1)==abs(angle2)==abs(angle3)==abs(angle4)==90)\n",
    "        \n",
    "        #return list containing bool values of required properties\n",
    "        ret_value =  [angle, op_angle, cong_diag,op_side_eq, all_sides_cong]\n",
    "        return ret_value"
   ]
  },
  {
   "cell_type": "code",
   "execution_count": 8,
   "metadata": {},
   "outputs": [],
   "source": [
    "def line_intersect(Ax1, Ay1, Ax2, Ay2, Bx1, By1, Bx2, By2):\n",
    "    \"\"\" returns a (x, y) tuple or None if there is no intersection \"\"\"\n",
    "    d = (By2 - By1) * (Ax2 - Ax1) - (Bx2 - Bx1) * (Ay2 - Ay1)\n",
    "    if d:\n",
    "        uA = ((Bx2 - Bx1) * (Ay1 - By1) - (By2 - By1) * (Ax1 - Bx1)) / d\n",
    "        uB = ((Ax2 - Ax1) * (Ay1 - By1) - (Ay2 - Ay1) * (Ax1 - Bx1)) / d\n",
    "    else:\n",
    "        return\n",
    "    if not(0 <= uA <= 1 and 0 <= uB <= 1):\n",
    "        return\n",
    "    x = Ax1 + uA * (Ax2 - Ax1)\n",
    "    y = Ay1 + uA * (Ay2 - Ay1)\n",
    " \n",
    "    return int(x), int(y)"
   ]
  },
  {
   "cell_type": "code",
   "execution_count": 9,
   "metadata": {},
   "outputs": [
    {
     "data": {
      "text/plain": [
       "2"
      ]
     },
     "execution_count": 9,
     "metadata": {},
     "output_type": "execute_result"
    }
   ],
   "source": [
    "cnts= cv2.findContours(edges,cv2.RETR_TREE,cv2.CHAIN_APPROX_SIMPLE)\n",
    "\n",
    "\n",
    "\n",
    "len(cnts)"
   ]
  },
  {
   "cell_type": "code",
   "execution_count": 10,
   "metadata": {},
   "outputs": [],
   "source": [
    "if type(cnts[-1]) !=type(None) :\n",
    "        if len(cnts) == 2:\n",
    "            cnts = cnts[0]\n",
    "        elif len(cnts) == 3:\n",
    "            cnts = cnts[1]\n",
    "        for i in cnts:\n",
    "            \n",
    "            \n",
    "            ret_values=detect(i)\n",
    "            #Add detected shape and corresponding outputs in the dictionary\n",
    "            shapes[ret_values[0]]=['blue',ret_values[1], ret_values[2], ret_values[3]]"
   ]
  },
  {
   "cell_type": "code",
   "execution_count": 11,
   "metadata": {},
   "outputs": [
    {
     "name": "stdout",
     "output_type": "stream",
     "text": [
      "{'Circle': ['blue', 255434.0, 442, 539]}\n"
     ]
    }
   ],
   "source": [
    "print(shapes)"
   ]
  },
  {
   "cell_type": "code",
   "execution_count": 12,
   "metadata": {},
   "outputs": [
    {
     "data": {
      "text/plain": [
       "-6693.0"
      ]
     },
     "execution_count": 12,
     "metadata": {},
     "output_type": "execute_result"
    }
   ],
   "source": [
    "277717 - 284410.0"
   ]
  },
  {
   "cell_type": "code",
   "execution_count": null,
   "metadata": {},
   "outputs": [],
   "source": [
    "\n"
   ]
  },
  {
   "cell_type": "code",
   "execution_count": null,
   "metadata": {},
   "outputs": [],
   "source": []
  },
  {
   "cell_type": "code",
   "execution_count": null,
   "metadata": {},
   "outputs": [],
   "source": []
  },
  {
   "cell_type": "code",
   "execution_count": null,
   "metadata": {},
   "outputs": [],
   "source": []
  },
  {
   "cell_type": "code",
   "execution_count": null,
   "metadata": {},
   "outputs": [],
   "source": []
  },
  {
   "cell_type": "code",
   "execution_count": null,
   "metadata": {},
   "outputs": [],
   "source": []
  },
  {
   "cell_type": "code",
   "execution_count": null,
   "metadata": {},
   "outputs": [],
   "source": []
  },
  {
   "cell_type": "code",
   "execution_count": null,
   "metadata": {},
   "outputs": [],
   "source": []
  },
  {
   "cell_type": "code",
   "execution_count": null,
   "metadata": {},
   "outputs": [],
   "source": []
  },
  {
   "cell_type": "code",
   "execution_count": null,
   "metadata": {},
   "outputs": [],
   "source": []
  }
 ],
 "metadata": {
  "kernelspec": {
   "display_name": "Python 3",
   "language": "python",
   "name": "python3"
  },
  "language_info": {
   "codemirror_mode": {
    "name": "ipython",
    "version": 3
   },
   "file_extension": ".py",
   "mimetype": "text/x-python",
   "name": "python",
   "nbconvert_exporter": "python",
   "pygments_lexer": "ipython3",
   "version": "3.8.6"
  }
 },
 "nbformat": 4,
 "nbformat_minor": 4
}
