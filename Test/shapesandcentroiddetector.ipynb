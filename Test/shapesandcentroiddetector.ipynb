{
 "cells": [
  {
   "cell_type": "code",
   "execution_count": 1,
   "metadata": {},
   "outputs": [],
   "source": [
    "import cv2 as cv\n",
    "import numpy as np\n",
    "from matplotlib import pyplot as plt\n",
    "name = None"
   ]
  },
  {
   "cell_type": "code",
   "execution_count": 10,
   "metadata": {},
   "outputs": [
    {
     "data": {
      "image/png": "[encoded data removed]",
      "text/plain": [
       "<Figure size 432x288 with 1 Axes>"
      ]
     },
     "metadata": {
      "needs_background": "light"
     },
     "output_type": "display_data"
    }
   ],
   "source": [
    "image = cv.imread(\"Sample1.png\",1)\n",
    "image = cv.line(image, (0,0),(642,642),(255,0,0),3) \n",
    "plt.imshow(image,cmap='gray')\n",
    "plt.show()\n",
    "shapes ={}\n"
   ]
  },
  {
   "cell_type": "code",
   "execution_count": 3,
   "metadata": {},
   "outputs": [],
   "source": [
    "def shape(approx):\n",
    "        if len(approx) == 3:\n",
    "            shape = \"Triangle\"\n",
    "        \n",
    "        elif len(approx) == 4:\n",
    "            #Call rect() to detect the shape\n",
    "            # angle,op_angle,cong_diag,op_side_eq,all_sides_cong = rect(c)\n",
    "\n",
    "            # #If opposite angles and sides are equal and diagonals are congruent, it must be a parallelogram\n",
    "            # if op_angle and op_side_eq and cong_diag:\n",
    "            #     #If all angles and sides are equal, aspect ratio is 1 and diagonals are congruent, it must be a square\n",
    "            #     if angle and cong_diag and all_sides_cong:\n",
    "            #         shape='Square'\n",
    "            #     elif not(angle) or not(cong_diag) and all_sides_cong:\n",
    "            #         #If aspect ratio is not 1 and angles are not 90, it must be a rhombus\n",
    "            #         shape = 'Rhombus'\n",
    "            #     #Otherwise, its a parallelogram\n",
    "            #     else:\n",
    "            shape = 'Parallelogram'\n",
    "            #If diagonals are not congruent, aspect ratio is not 1, opposite angles are not equal and\n",
    "            #all angles are not 90 degrees, it is a trapezium\n",
    "            # elif not(cong_diag) and not(angle) or not(op_angle):\n",
    "            #     shape='Trapezium'\n",
    "            # #Otherwise, it is a quadrilateral\n",
    "            # else: shape='Quadrilateral'\n",
    "        #Pentagon if shape has 5 sides\n",
    "        elif len(approx) == 5:\n",
    "            shape = \"Pentagon\"\n",
    "        #Hexagon if shape has 6 sides\n",
    "        elif len(approx) == 6:\n",
    "            shape = \"Hexagon\"\n",
    "        # otherwise, we assume the shape is a circle\n",
    "        else:\n",
    "            shape = \"Circle\"\n",
    "        return shape"
   ]
  },
  {
   "cell_type": "code",
   "execution_count": 5,
   "metadata": {},
   "outputs": [
    {
     "data": {
      "image/png": "[encoded data removed]",
      "text/plain": [
       "<Figure size 432x288 with 1 Axes>"
      ]
     },
     "metadata": {
      "needs_background": "light"
     },
     "output_type": "display_data"
    },
    {
     "data": {
      "image/png": "[encoded data removed]",
      "text/plain": [
       "<Figure size 432x288 with 1 Axes>"
      ]
     },
     "metadata": {
      "needs_background": "light"
     },
     "output_type": "display_data"
    },
    {
     "data": {
      "image/png": "[encoded data removed]",
      "text/plain": [
       "<Figure size 432x288 with 1 Axes>"
      ]
     },
     "metadata": {
      "needs_background": "light"
     },
     "output_type": "display_data"
    },
    {
     "name": "stdout",
     "output_type": "stream",
     "text": [
      "Circle\n",
      "Circle\n",
      "{'Circle': [None, 649, 653]}\n"
     ]
    }
   ],
   "source": [
    "\n",
    "    # output = image.copy()\n",
    "image = cv.GaussianBlur(image,(7,7), -1)\n",
    "ret,thresh1 = cv.threshold(image,127,255,cv.THRESH_BINARY_INV)\n",
    "plt.imshow(thresh1,cmap='gray')\n",
    "plt.show()\n",
    "edges = cv.Canny(thresh1,40,200)\n",
    "cnts = cv.findContours(edges, cv.RETR_TREE, cv.CHAIN_APPROX_SIMPLE)\n",
    "plt.imshow(edges,cmap='gray')\n",
    "plt.show()\n",
    "\n",
    "if len(cnts) == 2:\n",
    "        cnts = cnts[0]\n",
    "elif len(cnts) == 3:\n",
    "        cnts = cnts[1]\n",
    "img = cv.drawContours(image,cnts, -1, (0,255,0), 3)\n",
    "cv.imwrite(\"cnts.png\",img)\n",
    "plt.imshow(img,cmap='gray')\n",
    "plt.show()\n",
    "for cnt in cnts:\n",
    "        M = cv.moments(cnt)\n",
    "        cX = int((M[\"m10\"] / M[\"m00\"])) #X co-ordinate of the centroid of the shape\n",
    "        cY = int((M[\"m01\"] / M[\"m00\"])) #Y co-ordinate of the centroid of the shape\n",
    "        peri = cv.arcLength(cnt, True)\n",
    "        approx = cv.approxPolyDP(cnt, 0.001 * peri, True)\n",
    "        area=cv.contourArea((cnt))\n",
    "        print(shape(approx))\n",
    "        if shape(approx) =='Circle':\n",
    "            # print(cX, cY)\n",
    "            # print(len(approx), area)\n",
    "            shapes['Circle'] =[None,cX,cY]\n",
    "print(shapes)\n"
   ]
  },
  {
   "cell_type": "code",
   "execution_count": 4,
   "metadata": {},
   "outputs": [
    {
     "ename": "NameError",
     "evalue": "name 'cnts' is not defined",
     "output_type": "error",
     "traceback": [
      "\u001b[1;31m---------------------------------------------------------------------------\u001b[0m",
      "\u001b[1;31mNameError\u001b[0m                                 Traceback (most recent call last)",
      "\u001b[1;32m<ipython-input-4-7fc78f6728c2>\u001b[0m in \u001b[0;36m<module>\u001b[1;34m\u001b[0m\n\u001b[1;32m----> 1\u001b[1;33m \u001b[1;32mfor\u001b[0m \u001b[0mcnt\u001b[0m \u001b[1;32min\u001b[0m \u001b[0mcnts\u001b[0m\u001b[1;33m:\u001b[0m\u001b[1;33m\u001b[0m\u001b[1;33m\u001b[0m\u001b[0m\n\u001b[0m\u001b[0;32m      2\u001b[0m         \u001b[0mM\u001b[0m \u001b[1;33m=\u001b[0m \u001b[0mcv\u001b[0m\u001b[1;33m.\u001b[0m\u001b[0mmoments\u001b[0m\u001b[1;33m(\u001b[0m\u001b[0mcnt\u001b[0m\u001b[1;33m)\u001b[0m\u001b[1;33m\u001b[0m\u001b[1;33m\u001b[0m\u001b[0m\n\u001b[0;32m      3\u001b[0m         \u001b[0mcX\u001b[0m \u001b[1;33m=\u001b[0m \u001b[0mint\u001b[0m\u001b[1;33m(\u001b[0m\u001b[1;33m(\u001b[0m\u001b[0mM\u001b[0m\u001b[1;33m[\u001b[0m\u001b[1;34m\"m10\"\u001b[0m\u001b[1;33m]\u001b[0m \u001b[1;33m/\u001b[0m \u001b[0mM\u001b[0m\u001b[1;33m[\u001b[0m\u001b[1;34m\"m00\"\u001b[0m\u001b[1;33m]\u001b[0m\u001b[1;33m)\u001b[0m\u001b[1;33m)\u001b[0m \u001b[1;31m#X co-ordinate of the centroid of the shape\u001b[0m\u001b[1;33m\u001b[0m\u001b[1;33m\u001b[0m\u001b[0m\n\u001b[0;32m      4\u001b[0m         \u001b[0mcY\u001b[0m \u001b[1;33m=\u001b[0m \u001b[0mint\u001b[0m\u001b[1;33m(\u001b[0m\u001b[1;33m(\u001b[0m\u001b[0mM\u001b[0m\u001b[1;33m[\u001b[0m\u001b[1;34m\"m01\"\u001b[0m\u001b[1;33m]\u001b[0m \u001b[1;33m/\u001b[0m \u001b[0mM\u001b[0m\u001b[1;33m[\u001b[0m\u001b[1;34m\"m00\"\u001b[0m\u001b[1;33m]\u001b[0m\u001b[1;33m)\u001b[0m\u001b[1;33m)\u001b[0m \u001b[1;31m#Y co-ordinate of the centroid of the shape\u001b[0m\u001b[1;33m\u001b[0m\u001b[1;33m\u001b[0m\u001b[0m\n\u001b[0;32m      5\u001b[0m         \u001b[0mperi\u001b[0m \u001b[1;33m=\u001b[0m \u001b[0mcv\u001b[0m\u001b[1;33m.\u001b[0m\u001b[0marcLength\u001b[0m\u001b[1;33m(\u001b[0m\u001b[0mcnt\u001b[0m\u001b[1;33m,\u001b[0m \u001b[1;32mTrue\u001b[0m\u001b[1;33m)\u001b[0m\u001b[1;33m\u001b[0m\u001b[1;33m\u001b[0m\u001b[0m\n",
      "\u001b[1;31mNameError\u001b[0m: name 'cnts' is not defined"
     ]
    }
   ],
   "source": [
    "for cnt in cnts:\n",
    "        M = cv.moments(cnt)\n",
    "        cX = int((M[\"m10\"] / M[\"m00\"])) #X co-ordinate of the centroid of the shape\n",
    "        cY = int((M[\"m01\"] / M[\"m00\"])) #Y co-ordinate of the centroid of the shape\n",
    "        peri = cv.arcLength(cnt, True)\n",
    "        approx = cv.approxPolyDP(cnt, 0.001 * peri, True)\n",
    "        area=cv.contourArea((cnt))\n",
    "        print(shape(approx))\n",
    "        if shape(approx) =='Circle':\n",
    "            # print(cX, cY)\n",
    "            # print(len(approx), area)\n",
    "            shapes['Circle'] =[None,cX,cY]\n",
    "print(shapes)"
   ]
  },
  {
   "cell_type": "code",
   "execution_count": null,
   "metadata": {},
   "outputs": [],
   "source": []
  }
 ],
 "metadata": {
  "kernelspec": {
   "display_name": "Python 3",
   "language": "python",
   "name": "python3"
  },
  "language_info": {
   "codemirror_mode": {
    "name": "ipython",
    "version": 3
   },
   "file_extension": ".py",
   "mimetype": "text/x-python",
   "name": "python",
   "nbconvert_exporter": "python",
   "pygments_lexer": "ipython3",
   "version": "3.8.6"
  }
 },
 "nbformat": 4,
 "nbformat_minor": 4
}
