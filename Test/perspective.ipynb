{
 "cells": [
  {
   "cell_type": "code",
   "execution_count": 5,
   "metadata": {},
   "outputs": [],
   "source": [
    "import cv2 as cv\n",
    "import numpy as np\n",
    "from matplotlib import pyplot as plt\n",
    "name = None"
   ]
  },
  {
   "cell_type": "code",
   "execution_count": null,
   "metadata": {},
   "outputs": [],
   "source": [
    "%%time\n",
    "'''#for i in range(1,44):\n",
    " #   name = str(i) +\".png\"\n",
    "    img = cv.imread(\"1.png\",0)\n",
    "    plt.imshow(img,cmap='gray')\n",
    "    plt.show()\n",
    "    ret,thresh1 = cv.threshold(img,230,255,cv.THRESH_BINARY_INV)\n",
    "\t#Applying Canny Edge Detection\n",
    "    edged = cv.Canny(thresh1, 50, 200)\n",
    "\t\n",
    "\n",
    "\t\t\t\t\t\n",
    "\n",
    "\n",
    "\n",
    "\t#Finding Contours \n",
    "    cnts = cv.findContours(edged.copy(), cv.RETR_LIST, cv.CHAIN_APPROX_SIMPLE)[0]\n",
    "\t\t\n",
    "\n",
    "\n",
    "\t#Sorting the Contours in decreasing order because Square containing the Maze is largest\n",
    "    cnts = sorted(cnts, key = cv.contourArea, reverse = True)\n",
    "    for c in cnts:\n",
    "        peri = cv.arcLength(c, True)\n",
    "        approx = cv.approxPolyDP(c, 0.05 * peri, True)\n",
    "        #0.02\n",
    "\t\t\n",
    "\t# If length is 4 then it is ROI\n",
    "        if len(approx) == 4:\n",
    "            screenCnt = approx\n",
    "            break\n",
    "    pts = screenCnt.reshape(4, 2)\n",
    "\n",
    "\t#creating Array of Zero of Size(4,2)\t\n",
    "    rect = np.zeros((4, 2), dtype = \"float32\")\n",
    "    s = pts.sum(axis = 1)\n",
    "    rect[0] = pts[np.argmin(s)]\n",
    "    rect[2] = pts[np.argmax(s)]\n",
    "\n",
    "    diff = np.diff(pts, axis = 1)\n",
    "    rect[1] = pts[np.argmin(diff)]\n",
    "    rect[3] = pts[np.argmax(diff)]\n",
    "    (tl, tr, br, bl) = rect\n",
    "    maxWidth = 1280\n",
    "\n",
    "\n",
    "\n",
    "\t#Findinf Maximum height\n",
    "\n",
    "\t\n",
    "    maxHeight = 1280\n",
    "\n",
    "\t#Destination Array of ROI\n",
    "\t\n",
    "\n",
    "    dst = np.array([[0, 0],[maxWidth - 1, 0],[maxWidth - 1, maxHeight - 1],[0, maxHeight - 1]], dtype = \"float32\")\n",
    "\n",
    "\n",
    "\t#Applying perspective transform\n",
    "    M = cv.getPerspectiveTransform(rect, dst)\n",
    "\n",
    "\t# Finally the warped image \n",
    "    warped_img = cv.warpPerspective(img, M, (maxWidth, maxHeight))\n",
    "    plt.imshow(warped_img,cmap='gray')\n",
    "    plt.show()\n",
    "'''\n"
   ]
  },
  {
   "cell_type": "code",
   "execution_count": 28,
   "metadata": {},
   "outputs": [
    {
     "name": "stdout",
     "output_type": "stream",
     "text": [
      "4\n",
      "Wall time: 33.9 ms\n"
     ]
    }
   ],
   "source": [
    "%%time\n",
    "img = cv.imread(\"1.png\",0)\n",
    "ret,thresh1 = cv.threshold(img,230,255,cv.THRESH_BINARY_INV)\n",
    "\t#Applying Canny Edge Detection\n",
    "edged = cv.Canny(thresh1, 50, 200)\n",
    "\t\n",
    "\n",
    "\t\t\t\t\t\n",
    "\n",
    "\n",
    "\n",
    "\t#Finding Contours \n",
    "cnts = cv.findContours(edged,cv.RETR_LIST, cv.CHAIN_APPROX_SIMPLE)[0]\n",
    "\t\t\n",
    "print(len(cnts))\n",
    "\n",
    "\n",
    "\t#Sorting the Contours in decreasing order because Square containing the Maze is largest\n",
    "cnts = sorted(cnts, key = cv.contourArea, reverse = True)\n",
    "for c in cnts:\n",
    "        peri = cv.arcLength(c, True)\n",
    "        approx = cv.approxPolyDP(c, 0.05 * peri, True)\n",
    "        #0.02\n",
    "\t\t\n",
    "\t# If length is 4 then it is ROI\n",
    "        if len(approx) == 4:\n",
    "            screenCnt = approx\n",
    "            break\n",
    "pts = screenCnt.reshape(4, 2)\n",
    "\n",
    "\t#creating Array of Zero of Size(4,2)\t\n",
    "rect = np.zeros((4, 2), dtype = \"float32\")\n",
    "s = pts.sum(axis = 1)\n",
    "rect[0] = pts[np.argmin(s)]\n",
    "rect[2] = pts[np.argmax(s)]\n",
    "\n",
    "diff = np.diff(pts, axis = 1)\n",
    "rect[1] = pts[np.argmin(diff)]\n",
    "rect[3] = pts[np.argmax(diff)]\n",
    "(tl, tr, br, bl) = rect\n",
    "\n",
    "\n",
    "\t#Destination Array of ROI\n",
    "\t\n",
    "\n",
    "dst = np.array([[0, 0],[1280, 0],[1280,1280],[0,1280]], dtype = \"float32\")\n",
    "\n",
    "\n",
    "\t#Applying perspective transform\n",
    "M = cv.getPerspectiveTransform(rect, dst)\n",
    "\n",
    "\t# Finally the warped image \n",
    "warped_img = cv.warpPerspective(img, M, (1297,1279))\n",
    "\n",
    "\n",
    "\n",
    "\n",
    "    "
   ]
  },
  {
   "cell_type": "code",
   "execution_count": 29,
   "metadata": {
    "scrolled": true
   },
   "outputs": [
    {
     "data": {
      "image/png": "[encoded data removed]",
      "text/plain": [
       "<Figure size 432x288 with 1 Axes>"
      ]
     },
     "metadata": {
      "needs_background": "light"
     },
     "output_type": "display_data"
    },
    {
     "name": "stdout",
     "output_type": "stream",
     "text": [
      "Wall time: 356 ms\n"
     ]
    }
   ],
   "source": [
    "%%time\n",
    "plt.imshow(warped_img,cmap='gray')\n",
    "cv.imwrite(\"perspec.png\",warped_img)\n",
    "plt.show()"
   ]
  },
  {
   "cell_type": "code",
   "execution_count": null,
   "metadata": {},
   "outputs": [],
   "source": []
  },
  {
   "cell_type": "code",
   "execution_count": null,
   "metadata": {},
   "outputs": [],
   "source": []
  },
  {
   "cell_type": "code",
   "execution_count": null,
   "metadata": {},
   "outputs": [],
   "source": []
  },
  {
   "cell_type": "code",
   "execution_count": null,
   "metadata": {},
   "outputs": [],
   "source": []
  }
 ],
 "metadata": {
  "kernelspec": {
   "display_name": "Python 3",
   "language": "python",
   "name": "python3"
  },
  "language_info": {
   "codemirror_mode": {
    "name": "ipython",
    "version": 3
   },
   "file_extension": ".py",
   "mimetype": "text/x-python",
   "name": "python",
   "nbconvert_exporter": "python",
   "pygments_lexer": "ipython3",
   "version": "3.8.6"
  }
 },
 "nbformat": 4,
 "nbformat_minor": 4
}
