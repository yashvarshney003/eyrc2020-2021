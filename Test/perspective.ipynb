{
 "cells": [
  {
   "cell_type": "code",
   "execution_count": 1,
   "metadata": {},
   "outputs": [],
   "source": [
    "import cv2 as cv\n",
    "import numpy as np\n",
    "import matplotlib\n",
    "from matplotlib import pyplot as plt\n",
    "name = None"
   ]
  },
  {
   "cell_type": "code",
   "execution_count": 2,
   "metadata": {},
   "outputs": [
    {
     "name": "stdout",
     "output_type": "stream",
     "text": [
      "3.3.2\n"
     ]
    }
   ],
   "source": [
    "print(matplotlib. __version__)"
   ]
  },
  {
   "cell_type": "code",
   "execution_count": 3,
   "metadata": {},
   "outputs": [
    {
     "ename": "SyntaxError",
     "evalue": "invalid syntax (<ipython-input-3-aaea245f862f>, line 16)",
     "output_type": "error",
     "traceback": [
      "\u001b[1;36m  File \u001b[1;32m\"<ipython-input-3-aaea245f862f>\"\u001b[1;36m, line \u001b[1;32m16\u001b[0m\n\u001b[1;33m    matplotlib.pyplot.plt.imshow(thresh1,cmap='gray')\u001b[0m\n\u001b[1;37m    ^\u001b[0m\n\u001b[1;31mSyntaxError\u001b[0m\u001b[1;31m:\u001b[0m invalid syntax\n"
     ]
    }
   ],
   "source": [
    "input_img = cv.imread(\"maze_t1.jpg\",0)\n",
    "input_img2 = input_img\n",
    "matplotlib.pyplot.plt.imshow(input_img,cmap =\"gray\")\n",
    "matplotlib.pyplot.plt.show()\n",
    "warped_img = None\n",
    "\n",
    "##############\tADD YOUR CODE HERE\t##############\n",
    "#Conversion into GrayScale\n",
    "gray = input_img\n",
    "\t\n",
    "\n",
    "#Applying Gaussian Blur \n",
    "print(\"gray\")\t\n",
    "#gray = cv.GaussianBlur(gray, (5,5), 2)\n",
    "ret,thresh1 = cv.threshold(gray,50,255,cv.THRESH_BINARY_INV\n",
    "matplotlib.pyplot.plt.imshow(thresh1,cmap='gray')\n",
    "matplotlib.pyplot.plt.show()\n",
    "\t\n",
    "\n",
    "#Applying Canny Edge Detection\n",
    "print(\"edged\")\n",
    "edged = cv.Canny(thresh1,20, 255)\n",
    "matplotlib.pyplot.plt.imshow(edged,cmap='gray')\n",
    "matplotlib.pyplot.plt.show()\n",
    "#Finding Contours\n",
    "\t\n",
    "cnts = cv.findContours(edged.copy(), cv.RETR_LIST, cv.CHAIN_APPROX_SIMPLE)[0]\n",
    "print(len(cnts))\n",
    "input_img3 = input_img.copy()\n",
    "\n",
    "input_img3 = cv.cvtColor(input_img3,cv.COLOR_GRAY2RGB)\n",
    "\n",
    "for i in range(len(cnts)):\n",
    "    input_img2=input_img3\n",
    "    print(\"iiiiiii\")\n",
    "    area = cv.contourArea(cnts[i])\n",
    "    print(f\"cnts area is {area}\")\n",
    "    cv.drawContours(input_img2, cnts,i, (0, 255, 0), -1) \n",
    "    \n",
    "    matplotlib.pyplot.plt.imshow(input_img2,cmap='gray')\n",
    "    matplotlib.pyplot.plt.show()\n",
    "\t\n",
    "\t\n",
    "    \t\n",
    "    \t\n",
    "\n",
    "\n",
    "#Sorting the Contours in decreasing order because Square containing the Maze is largest\n",
    "cnts = sorted(cnts, key = cv.contourArea, reverse = True)\n",
    "\n",
    "\n",
    "#Looping through the Contours and approxing Contours\n",
    "for c in cnts:\n",
    "        print(f\"cnts is{c}\")\n",
    "        peri = cv.arcLength(c, True)\n",
    "        approx = cv.approxPolyDP(c, 0.05 * peri, True)\n",
    "\t#0.02\n",
    "\t\t\n",
    "\t# If length is 4 then it is ROI\n",
    "        if len(approx) == 4:\n",
    "            creenCnt = approx\n",
    "            break\n",
    "\n",
    "\t# Reshaping Contours for further use\n",
    "pts = screenCnt.reshape(4, 2)\n",
    "\n",
    "\t#creating Array of Zero of Size(4,2)\t\n",
    "rect = np.zeros((4, 2), dtype = \"float32\")\n",
    "\n",
    "#Ordering of points in Clockwise manner\n",
    "\n",
    "s = pts.sum(axis = 1)\n",
    "rect[0] = pts[np.argmin(s)]\n",
    "rect[2] = pts[np.argmax(s)]\n",
    "diff = np.diff(pts, axis = 1)\n",
    "rect[1] = pts[np.argmin(diff)]\n",
    "rect[3] = pts[np.argmax(diff)]\n",
    "(tl, tr, br, bl) = rect\n",
    "\n",
    "\n",
    "\t#Finding Maximum width\n",
    "\n",
    "\t\n",
    "maxWidth = 1280\n",
    "\n",
    "\n",
    "\n",
    "\t#Findinf Maximum height\n",
    "\n",
    "\t\n",
    "maxHeight = 1280\n",
    "\t#Destination Array of ROI\n",
    "\t\n",
    "\n",
    "dst = np.array([[0, 0],[maxWidth - 1, 0],[maxWidth - 1, maxHeight - 1],[0, maxHeight - 1]], dtype = \"float32\")\n",
    "\n",
    "\n",
    "\t#Applying perspective transform\n",
    "M = cv.getPerspectiveTransform(rect, dst)\n",
    "\n",
    "\t# Finally the warped image \n",
    "warped_img = cv.warpPerspective(input_img, M, (maxWidth, maxHeight))"
   ]
  },
  {
   "cell_type": "code",
   "execution_count": null,
   "metadata": {},
   "outputs": [],
   "source": []
  },
  {
   "cell_type": "code",
   "execution_count": null,
   "metadata": {
    "scrolled": true
   },
   "outputs": [],
   "source": [
    "%%time\n",
    "plt.imshow(warped_img,cmap='gray')\n",
    "cv.imwrite(\"perspec.png\",warped_img)\n",
    "plt.show()"
   ]
  },
  {
   "cell_type": "code",
   "execution_count": null,
   "metadata": {},
   "outputs": [],
   "source": [
    "print(warped_img.shape)"
   ]
  },
  {
   "cell_type": "code",
   "execution_count": null,
   "metadata": {},
   "outputs": [],
   "source": [
    "input_img3 = input_img[x_min:x_max,y_min:y_max]\n",
    "plt.imshow(input_img3,cmap=\"gray\")\n",
    "plt.show()\n"
   ]
  },
  {
   "cell_type": "code",
   "execution_count": null,
   "metadata": {},
   "outputs": [],
   "source": []
  },
  {
   "cell_type": "code",
   "execution_count": null,
   "metadata": {},
   "outputs": [],
   "source": []
  }
 ],
 "metadata": {
  "kernelspec": {
   "display_name": "Python 3",
   "language": "python",
   "name": "python3"
  },
  "language_info": {
   "codemirror_mode": {
    "name": "ipython",
    "version": 3
   },
   "file_extension": ".py",
   "mimetype": "text/x-python",
   "name": "python",
   "nbconvert_exporter": "python",
   "pygments_lexer": "ipython3",
   "version": "3.8.6"
  }
 },
 "nbformat": 4,
 "nbformat_minor": 4
}
